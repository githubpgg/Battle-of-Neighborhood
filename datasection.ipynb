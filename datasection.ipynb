{
 "cells": [
  {
   "cell_type": "markdown",
   "metadata": {},
   "source": [
    "### 2. Data selection and sources\n",
    "For this project, the following data is needed:\n",
    "1.  Neighborhoods names and coordinates of Toronto and Cleveland.\n",
    "2.  Venues data\n",
    "\n",
    "#### Data sources:\n",
    "\n",
    "###### Location Data of Toronto\n",
    "1. We can use Toronto’s information on Wikipedia as resource: https://en.wikipedia.org/wiki/List_of_postal_codes_of_Canada:_M\n",
    "2. BeautifulSoup is a Python library used for pulling data out of HTML. We will use it to parse the Wikipedia page\n",
    "3. Geolocation data: http://cocl.us/Geospatial_data\n",
    "\n",
    "###### Location Data of Cleveland\n",
    "1. We use the Cleveland neighborhoods data downloaded from Keggle.com: https://www.kaggle.com/jkortis2121/cleveland-neighborhoods-clean\n",
    "2. This data set contains the latitudes and longitudes of each neighborhood.\n",
    "\n",
    "###### Venues Data (Foursquare API)\n",
    "Foursquare API provides information about venues and geolocation. We will use Foursquare API to get the venue data for each neighborhood. Foursquare has one of the largest databases of 105+ million places and is used by over 125,000 developers. Foursquare API will provide many categories of the venue data such as name, location, hours, rating, prices, etc.\n",
    "\n",
    "#### Approach:\n",
    "1. Collect required neighborhoods data from sources listed above, construct a data set for both city\n",
    "2. Using Foursquare API to get all venues for each neighborhood.\n",
    "3. Find the top 5 most popular venues in each neighborhood.\n",
    "4. Apply K-Means approach to cluster all neighborhoods\n",
    "5. Visualize clusters on city maps\n",
    "6. Analyze the most important cluster of each city to find the differences/similarity\n"
   ]
  },
  {
   "cell_type": "code",
   "execution_count": null,
   "metadata": {},
   "outputs": [],
   "source": []
  }
 ],
 "metadata": {
  "kernelspec": {
   "display_name": "Python 3",
   "language": "python",
   "name": "python3"
  },
  "language_info": {
   "codemirror_mode": {
    "name": "ipython",
    "version": 3
   },
   "file_extension": ".py",
   "mimetype": "text/x-python",
   "name": "python",
   "nbconvert_exporter": "python",
   "pygments_lexer": "ipython3",
   "version": "3.8.3"
  }
 },
 "nbformat": 4,
 "nbformat_minor": 4
}
