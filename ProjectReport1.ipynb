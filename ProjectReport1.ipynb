{
 "cells": [
  {
   "cell_type": "markdown",
   "metadata": {},
   "source": [
    "# The Battle of Neighborhoods between Great Lakes Cities:"
   ]
  },
  {
   "cell_type": "markdown",
   "metadata": {},
   "source": [
    "## Cleveland and Toronto"
   ]
  },
  {
   "cell_type": "markdown",
   "metadata": {},
   "source": [
    "### 1. Introduction of the problem and background"
   ]
  },
  {
   "cell_type": "markdown",
   "metadata": {},
   "source": [
    "Toronto, ON and Cleveland, OH are two of the major cities in the Great Lakes area. The distance is less than 300 miles, which will take about a 4-hour driving. We can find a lot of similarities between the two cities: lake-shore cities, English as the predominant language, nearby the US-Canada border, etc. On the other hand, the two cities are also very different, for example, Toronto has larger area and population, Cleveland has warmer weather."
   ]
  },
  {
   "attachments": {},
   "cell_type": "markdown",
   "metadata": {},
   "source": [
    "Since Toronto and Cleveland are so close by each other, people may have such questions: is the life style in these two cities same? What are the similarities and what are the major difference? \n",
    "\n",
    "If we look at these in a business view point, some interesting questions might arise. A successful Cleveland restaurant owner want to know if she can repeat her business in Toronto, where should the new restaurant be located. A real estate agent would recommend a house to his client who plan to move from Toronto to Cleveland but rather keep the similar living environment. Questions like these can related to anyone or any business area."
   ]
  },
  {
   "cell_type": "markdown",
   "metadata": {},
   "source": [
    "##### The main targets of this project are:\n",
    "1.\tto figure out the which neighborhoods are similar to each other,\n",
    "2.\tto find whether there are neighborhoods distribution difference between of the two cities.\n"
   ]
  },
  {
   "cell_type": "markdown",
   "metadata": {},
   "source": [
    "### 2. Data selection and sources"
   ]
  },
  {
   "attachments": {},
   "cell_type": "markdown",
   "metadata": {},
   "source": [
    "For this project, the following data is needed:\n",
    "1.\tNeighborhoods names and coordinates of Toronto and Cleveland.\n",
    "\n",
    "2.\tVenues data"
   ]
  },
  {
   "attachments": {},
   "cell_type": "markdown",
   "metadata": {},
   "source": [
    "#### Data sources:\n",
    "###### Location Data of Toronto\n",
    "1. We can use Toronto’s information on Wikipedia as resource: https://en.wikipedia.org/wiki/List_of_postal_codes_of_Canada:_M\n",
    "2. BeautifulSoup is a Python library used for pulling data out of HTML. We will use it to parse the Wikipedia page\n",
    "3. Geolocation data: http://cocl.us/Geospatial_data"
   ]
  },
  {
   "cell_type": "markdown",
   "metadata": {},
   "source": [
    "###### Location Data of Cleveland\n",
    "1. We use the Cleveland neighborhoods data downloaded from Keggle.com:\n",
    "https://www.kaggle.com/jkortis2121/cleveland-neighborhoods-clean\n",
    "2. This data set contains the latitudes and longitudes of each neighborhood."
   ]
  },
  {
   "cell_type": "markdown",
   "metadata": {},
   "source": [
    "###### Venues Data (Foursquare API)\n",
    "Foursquare API provides information about venues and geolocation. We will use Foursquare API to get the venue data for each neighborhood. Foursquare has one of the largest databases of 105+ million places and is used by over 125,000 developers. Foursquare API will provide many categories of the venue data such as name, location, hours, rating, prices, etc."
   ]
  },
  {
   "attachments": {},
   "cell_type": "markdown",
   "metadata": {},
   "source": [
    "#### Approach:\n",
    "1.\tCollect required neighborhoods data from sources listed above, construct a data set for both city\n",
    "2.\tUsing Foursquare API to get all venues for each neighborhood.\n",
    "3.\tFind the top 5 most popular venues in each neighborhood.\n",
    "4.\tApply K-Means approach to cluster all neighborhoods\n",
    "5.\tVisualize clusters on city maps\n",
    "6.\tAnalyze the most important cluster of each city to find the differences/similarity \n"
   ]
  },
  {
   "cell_type": "code",
   "execution_count": null,
   "metadata": {},
   "outputs": [],
   "source": []
  }
 ],
 "metadata": {
  "kernelspec": {
   "display_name": "Python 3",
   "language": "python",
   "name": "python3"
  },
  "language_info": {
   "codemirror_mode": {
    "name": "ipython",
    "version": 3
   },
   "file_extension": ".py",
   "mimetype": "text/x-python",
   "name": "python",
   "nbconvert_exporter": "python",
   "pygments_lexer": "ipython3",
   "version": "3.8.3"
  }
 },
 "nbformat": 4,
 "nbformat_minor": 4
}
