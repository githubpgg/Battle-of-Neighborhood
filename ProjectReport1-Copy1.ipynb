{
 "cells": [
  {
   "cell_type": "markdown",
   "metadata": {},
   "source": [
    "# The Battle of Neighborhoods between Great Lakes Cities:"
   ]
  },
  {
   "cell_type": "markdown",
   "metadata": {},
   "source": [
    "## Cleveland and Toronto"
   ]
  },
  {
   "cell_type": "markdown",
   "metadata": {},
   "source": [
    "### 1. Introduction of the problem and background"
   ]
  },
  {
   "cell_type": "markdown",
   "metadata": {},
   "source": [
    "Toronto, ON and Cleveland, OH are two of the major cities in the Great Lakes area. The distance is less than 300 miles, which will take about a 4-hour driving. We can find a lot of similarities between the two cities: lake-shore cities, English as the predominant language, nearby the US-Canada border, etc. On the other hand, the two cities are also very different, for example, Toronto has larger area and population, Cleveland has warmer weather."
   ]
  },
  {
   "cell_type": "markdown",
   "metadata": {},
   "source": [
    "Since Toronto and Cleveland are so close by each other, people may have such questions: is the life style in these two cities same? What are the similarities and what are the major difference? \n",
    "\n",
    "If we look at these in a business view point, some interesting questions might arise. A successful Cleveland restaurant owner want to know if she can repeat her business in Toronto, where should the new restaurant be located. A real estate agent would recommend a house to his client who plan to move from Toronto to Cleveland but rather keep the similar living environment. Questions like these can related to anyone or any business area."
   ]
  },
  {
   "cell_type": "markdown",
   "metadata": {},
   "source": [
    "##### The main targets of this project are:\n",
    "1.\tto figure out the which neighborhoods are similar to each other,\n",
    "2.\tto find whether there are neighborhoods distribution difference between of the two cities.\n"
   ]
  },
  {
   "cell_type": "code",
   "execution_count": null,
   "metadata": {},
   "outputs": [],
   "source": []
  }
 ],
 "metadata": {
  "kernelspec": {
   "display_name": "Python 3",
   "language": "python",
   "name": "python3"
  },
  "language_info": {
   "codemirror_mode": {
    "name": "ipython",
    "version": 3
   },
   "file_extension": ".py",
   "mimetype": "text/x-python",
   "name": "python",
   "nbconvert_exporter": "python",
   "pygments_lexer": "ipython3",
   "version": "3.8.3"
  }
 },
 "nbformat": 4,
 "nbformat_minor": 4
}
